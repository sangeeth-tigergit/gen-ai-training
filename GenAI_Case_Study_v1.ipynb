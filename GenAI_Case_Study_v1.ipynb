{
  "cells": [
    {
      "cell_type": "code",
      "execution_count": 1,
      "metadata": {
        "colab": {
          "base_uri": "https://localhost:8080/"
        },
        "id": "BK0raD08Q0ap",
        "outputId": "6a44a56b-e1f3-49ad-c0f8-486f8308c334"
      },
      "outputs": [
        {
          "output_type": "stream",
          "name": "stdout",
          "text": [
            "Archive:  /content/drive/MyDrive/Gen AI Training/GenAI Case Study Data.zip\n",
            "  inflating: Data/Queries/Queries.xlsx  \n",
            "  inflating: Data/PDF Documents.zip  \n",
            "  inflating: Data/Labelled Data/Labelled_Data_Set1.xlsx  \n",
            "  inflating: Data/Labelled Data/Labelled_Data_Set2.xlsx  \n"
          ]
        }
      ],
      "source": [
        "!unzip '/content/drive/MyDrive/Gen AI Training/GenAI Case Study Data.zip'"
      ]
    },
    {
      "cell_type": "code",
      "execution_count": 2,
      "metadata": {
        "colab": {
          "base_uri": "https://localhost:8080/"
        },
        "id": "YuaZfUAvR6Eq",
        "outputId": "11bb1fa9-8e7a-4d2d-ca60-8033a1b2f73a"
      },
      "outputs": [
        {
          "output_type": "stream",
          "name": "stdout",
          "text": [
            "Archive:  /content/Data/PDF Documents.zip\n",
            "   creating: PDF Documents/Set1/\n",
            "  inflating: PDF Documents/Set1/Black_Decker_AirCompresssor_ID_4700_Scanned.pdf  \n",
            "  inflating: PDF Documents/Set1/Black_Decker_AirCompresssor_ID_WX-RP810_Scanned.pdf  \n",
            "  inflating: PDF Documents/Set1/Black_Decker_AirCompresssor_Nil1_Editable.pdf  \n",
            "  inflating: PDF Documents/Set1/Black_Decker_Blender_ID_5000_Editable.pdf  \n",
            "  inflating: PDF Documents/Set1/Black_Decker_Blender_ID_bl2010bgc_Editable.pdf  \n",
            "  inflating: PDF Documents/Set1/Black_Decker_Blender_ID_bl2010wg_Editable.pdf  \n",
            "  inflating: PDF Documents/Set1/Black_Decker_Blender_Nil1_Editable.pdf  \n",
            "  inflating: PDF Documents/Set1/Black_Decker_CoffeeGrinder_ID_cbm3_Editable.pdf  \n",
            "  inflating: PDF Documents/Set1/Black_Decker_CoffeeGrinder_ID_series_cbg5_Edita.pdf  \n",
            "  inflating: PDF Documents/Set1/Black_Decker_CoffeeGrinder_Nil1_Editable.pdf  \n",
            "  inflating: PDF Documents/Set1/Black_Decker_CoffeeMaker_ID_am7_Editable.pdf  \n",
            "  inflating: PDF Documents/Set1/Black_Decker_CoffeeMaker_ID_bcm1410b_Editable.pdf  \n",
            "  inflating: PDF Documents/Set1/Black_Decker_CoffeeMaker_ID_cm618sc_Editable.pdf  \n",
            "  inflating: PDF Documents/Set1/Black_Decker_Drill_Nil1_Editable.pdf  \n",
            "  inflating: PDF Documents/Set1/Black_Decker_Drill_Nil5_Editable.pdf  \n",
            "  inflating: PDF Documents/Set1/Black_Decker_Drill_Nil7_Editable.pdf  \n",
            "  inflating: PDF Documents/Set1/Black_Decker_Fans(Misc.)_ID_BDHT-5016_Editable.pdf  \n",
            "  inflating: PDF Documents/Set1/Black_Decker_Fans(Misc.)_ID_bdtf4200r_Editable.pdf  \n",
            "  inflating: PDF Documents/Set1/Black_Decker_Fans(Misc.)_ID_bdtf4700r_Editable.pdf  \n",
            "  inflating: PDF Documents/Set1/Black_Decker_FoodProcessor_ID_bx380g_Editable.pdf  \n",
            "  inflating: PDF Documents/Set1/Black_Decker_FoodProcessor_ID_cg700_Editable.pdf  \n",
            "  inflating: PDF Documents/Set1/Black_Decker_FoodProcessor_ID_hc20_Editable.pdf  \n",
            "  inflating: PDF Documents/Set1/Black_Decker_Freezer_Nil1_Editable.pdf  \n",
            "  inflating: PDF Documents/Set1/Black_Decker_Freezer_Nil2_Editable.pdf  \n",
            "  inflating: PDF Documents/Set1/Black_Decker_Freezer_Nil3_Editable.pdf  \n",
            "  inflating: PDF Documents/Set1/Black_Decker_Iron_ID_62784_Editable.pdf  \n",
            "  inflating: PDF Documents/Set1/Black_Decker_Iron_ID_62984_Editable.pdf  \n",
            "  inflating: PDF Documents/Set1/Black_Decker_Iron_ID_as182_Editable.pdf  \n",
            "  inflating: PDF Documents/Set1/Black_Decker_LawnMower_ID_8000_Scanned.pdf  \n",
            "  inflating: PDF Documents/Set1/Black_Decker_LawnMower_ID_clma4820l2_Editable.pdf  \n",
            "  inflating: PDF Documents/Set1/Black_Decker_LawnMower_Nil2_Scanned.pdf  \n",
            "  inflating: PDF Documents/Set1/Black_Decker_Trimmer_ID_glc120_Editable.pdf  \n",
            "  inflating: PDF Documents/Set1/Black_Decker_Trimmer_Nil1_Scanned.pdf  \n",
            "  inflating: PDF Documents/Set1/Black_Decker_Trimmer_Nil2_Scanned.pdf  \n",
            "  inflating: PDF Documents/Set1/Black_Decker_VacuumCleaner_Nil1_Scanned.pdf  \n",
            "  inflating: PDF Documents/Set1/Black_Decker_VacuumCleaner_Nil4_Scanned.pdf  \n",
            "  inflating: PDF Documents/Set1/Black_Decker_VacuumCleaner_Nil6_Editable.pdf  \n",
            "   creating: PDF Documents/Set2/\n",
            "  inflating: PDF Documents/Set2/https___www.toolservicenet.com_i_DEWALT_GLOBALBOM_QU_D55152_1_Instruction_Manual_EN_619719-00.pdf  \n",
            "  inflating: PDF Documents/Set2/https___www.toolservicenet.com_i_DEWALT_GLOBALBOM_QU_D55153_1_Instruction_Manual_EN_5135175-01_D55152_Elec.pdf  \n",
            "  inflating: PDF Documents/Set2/https___www.toolservicenet.com_i_DEWALT_GLOBALBOM_QU_D55155_2_Instruction_Manual_EN_a16694_D55155.pdf  \n",
            "  inflating: PDF Documents/Set2/https___www.toolservicenet.com_i_DEWALT_GLOBALBOM_QU_DCBL720B_1_Instruction_Manual_EN_90620115_DCBL720.pdf  \n",
            "  inflating: PDF Documents/Set2/https___www.toolservicenet.com_i_DEWALT_GLOBALBOM_QU_DCBL722B_1_Instruction_Manual_EN_N733328_DCBL722.pdf  \n",
            "  inflating: PDF Documents/Set2/https___www.toolservicenet.com_i_DEWALT_GLOBALBOM_QU_DCBL770B_1_Instruction_Manual_EN_90641176_DCBL770.pdf  \n",
            "  inflating: PDF Documents/Set2/https___www.toolservicenet.com_i_DEWALT_GLOBALBOM_QU_DCCS620B_1_Instruction_Manual_EN_N518512_DCCS620 (1).pdf  \n",
            "  inflating: PDF Documents/Set2/https___www.toolservicenet.com_i_DEWALT_GLOBALBOM_QU_DCCS620B_1_Instruction_Manual_EN_N518512_DCCS620.pdf  \n",
            "  inflating: PDF Documents/Set2/https___www.toolservicenet.com_i_DEWALT_GLOBALBOM_QU_DCCS623B_1_Instruction_Manual_EN_NA130412_DCCS623-T1-NA.pdf  \n",
            "  inflating: PDF Documents/Set2/https___www.toolservicenet.com_i_DEWALT_GLOBALBOM_QU_DCCS677B_1_Instruction_Manual_EN_NA031192_DCCS672_677.pdf  \n",
            "  inflating: PDF Documents/Set2/https___www.toolservicenet.com_i_DEWALT_GLOBALBOM_QU_DCD775B_1_Instruction_Manual_EN_N400408_DC725.pdf  \n",
            "  inflating: PDF Documents/Set2/https___www.toolservicenet.com_i_DEWALT_GLOBALBOM_QU_DCD780B_1_Instruction_Manual_EN_N088344_DCD780.pdf  \n",
            "  inflating: PDF Documents/Set2/https___www.toolservicenet.com_i_DEWALT_GLOBALBOM_QU_DCD790B_1_Instruction_Manual_EN_N381800_DCD790.pdf  \n",
            "  inflating: PDF Documents/Set2/https___www.toolservicenet.com_i_DEWALT_GLOBALBOM_QU_DCD793B_1_Instruction_Manual_EN_NA269713_man_DCD793_DCD798_Drill_Driver_Hammerdrill_NA.pdf  \n",
            "  inflating: PDF Documents/Set2/https___www.toolservicenet.com_i_DEWALT_GLOBALBOM_QU_DCD800B_1_Instruction_Manual_EN_NA229093_DCD800_DCD805_T1_NA.pdf  \n",
            "  inflating: PDF Documents/Set2/https___www.toolservicenet.com_i_DEWALT_GLOBALBOM_QU_DCD998B_1_Instruction_Manual_EN_N745812_DCD998.pdf  \n",
            "  inflating: PDF Documents/Set2/https___www.toolservicenet.com_i_DEWALT_GLOBALBOM_QU_DCE100B_1_Instruction_Manual_EN_N434654_DCE100.pdf  \n",
            "  inflating: PDF Documents/Set2/https___www.toolservicenet.com_i_DEWALT_GLOBALBOM_QU_DCF840B_1_Instruction_Manual_EN_N874361_DCF840.pdf  \n",
            "  inflating: PDF Documents/Set2/https___www.toolservicenet.com_i_DEWALT_GLOBALBOM_QU_DCF845B_1_Instruction_Manual_EN_DCF845_T1_QU_QUCA_NA.pdf  \n",
            "  inflating: PDF Documents/Set2/https___www.toolservicenet.com_i_DEWALT_GLOBALBOM_QU_DCF891B_1_Instruction_Manual_EN_NA006214_man_cordless_impactors_NA.pdf  \n",
            "  inflating: PDF Documents/Set2/https___www.toolservicenet.com_i_DEWALT_GLOBALBOM_QU_DCF892B_1_Instruction_Manual_EN_NA006214_man_cordless_impactors_NA.pdf  \n",
            "  inflating: PDF Documents/Set2/https___www.toolservicenet.com_i_DEWALT_GLOBALBOM_QU_DCF961B_1_Instruction_Manual_EN_NA303072_DCF961_T1_NA.pdf  \n",
            "  inflating: PDF Documents/Set2/https___www.toolservicenet.com_i_DEWALT_GLOBALBOM_QU_DCHT820B_1_Instruction_Manual_EN_N737377_DCHT820.pdf  \n",
            "  inflating: PDF Documents/Set2/https___www.toolservicenet.com_i_DEWALT_GLOBALBOM_QU_DCMWP233U2_1_Instruction_Manual_EN_N850446_DCMWP233 (1).pdf  \n",
            "  inflating: PDF Documents/Set2/https___www.toolservicenet.com_i_DEWALT_GLOBALBOM_QU_DCMWP233U2_1_Instruction_Manual_EN_N850446_DCMWP233.pdf  \n",
            "  inflating: PDF Documents/Set2/https___www.toolservicenet.com_i_DEWALT_GLOBALBOM_QU_DCMWSP244U2_1_Instruction_Manual_EN_N850455_DCMWSP244.pdf  \n",
            "  inflating: PDF Documents/Set2/https___www.toolservicenet.com_i_DEWALT_GLOBALBOM_QU_DCMWSP255U2_0_Instruction_Manual_EN_NA088643_DCMWSP255.pdf  \n",
            "  inflating: PDF Documents/Set2/https___www.toolservicenet.com_i_DEWALT_GLOBALBOM_QU_DCMWSP255Y2_0_Instruction_Manual_EN_NA088643_DCMWSP255.pdf  \n",
            "  inflating: PDF Documents/Set2/https___www.toolservicenet.com_i_DEWALT_GLOBALBOM_QU_DCN650B_1_Instruction_Manual_EN_N540069_DCN650.pdf  \n",
            "  inflating: PDF Documents/Set2/https___www.toolservicenet.com_i_DEWALT_GLOBALBOM_QU_DCN680B_1_Instruction_Manual_EN_N496636_DCN680.pdf  \n",
            "  inflating: PDF Documents/Set2/https___www.toolservicenet.com_i_DEWALT_GLOBALBOM_QU_DCN690B_1_Instruction_Manual_EN_N143083_DCN690.pdf  \n",
            "  inflating: PDF Documents/Set2/https___www.toolservicenet.com_i_DEWALT_GLOBALBOM_QU_DCN692B_1_Instruction_Manual_EN_N329480_DCN692.pdf  \n",
            "  inflating: PDF Documents/Set2/https___www.toolservicenet.com_i_DEWALT_GLOBALBOM_QU_DCN693B_1_Instruction_Manual_EN_N534998_DCN693.pdf  \n",
            "  inflating: PDF Documents/Set2/https___www.toolservicenet.com_i_DEWALT_GLOBALBOM_QU_DCS361M1_1_Instruction_Manual_EN_N599912_DCS361.pdf  \n",
            "  inflating: PDF Documents/Set2/https___www.toolservicenet.com_i_DEWALT_GLOBALBOM_QU_DCS7485T1_1_Instruction_Manual_EN_N492099_DCS7485.pdf  \n",
            "  inflating: PDF Documents/Set2/https___www.toolservicenet.com_i_DEWALT_GLOBALBOM_QU_DCS781B_20_Instruction_Manual_EN_NA165154__DCS781_QU.pdf  \n",
            "  inflating: PDF Documents/Set2/https___www.toolservicenet.com_i_DEWALT_GLOBALBOM_QU_DCST920B_2_Instruction_Manual_EN_90641761_Guard.pdf  \n",
            "  inflating: PDF Documents/Set2/https___www.toolservicenet.com_i_DEWALT_GLOBALBOM_QU_DCST922B_1_Instruction_Manual_EN_N748235_DCST922.pdf  \n",
            "  inflating: PDF Documents/Set2/https___www.toolservicenet.com_i_DEWALT_GLOBALBOM_QU_DCST925B_1_Instruction_Manual_EN_N638960_DCST925.pdf  \n",
            "  inflating: PDF Documents/Set2/https___www.toolservicenet.com_i_DEWALT_GLOBALBOM_QU_DCST970B_1_Instruction_Manual_EN_90641174_DCST970.pdf  \n",
            "  inflating: PDF Documents/Set2/https___www.toolservicenet.com_i_DEWALT_GLOBALBOM_QU_DHS716T2_20_Instruction_Manual_EN_N464579_DHS716.pdf  \n",
            "  inflating: PDF Documents/Set2/https___www.toolservicenet.com_i_DEWALT_GLOBALBOM_QU_DHS790AT2_20_Instruction_Manual_EN_N463973_DHS790.pdf  \n",
            "  inflating: PDF Documents/Set2/https___www.toolservicenet.com_i_DEWALT_GLOBALBOM_QU_DW511_1_Instruction_Manual_EN_393048-00_DW511.pdf  \n",
            "  inflating: PDF Documents/Set2/https___www.toolservicenet.com_i_DEWALT_GLOBALBOM_QU_DWCS600_1_Instruction_Manual_EN_N844909_DWCS600.pdf  \n",
            "  inflating: PDF Documents/Set2/https___www.toolservicenet.com_i_DEWALT_GLOBALBOM_QU_DWE7480_1_Instruction_Manual_EN_N273727_DWE7480.pdf  \n",
            "  inflating: PDF Documents/Set2/https___www.toolservicenet.com_i_DEWALT_GLOBALBOM_QU_DWE7491RS_1_Instruction_Manual_EN_N202113_DWE7490.pdf  \n",
            "  inflating: PDF Documents/Set2/https___www.toolservicenet.com_i_DEWALT_GLOBALBOM_QU_DWE7491RS_10_Instruction_Manual_EN_N531890_DWE7491rs.pdf  \n",
            "  inflating: PDF Documents/Set2/https___www.toolservicenet.com_i_DEWALT_GLOBALBOM_QU_DWFP55120_1_Instruction_Manual_EN_N166061_DWFP55120.pdf  \n",
            "  inflating: PDF Documents/Set2/https___www.toolservicenet.com_i_DEWALT_GLOBALBOM_QU_DWFP55126_1_Instruction_Manual_EN_N331539_DWFP55126.pdf  \n",
            "  inflating: PDF Documents/Set2/https___www.toolservicenet.com_i_DEWALT_GLOBALBOM_QU_DWS715_20_Instruction_Manual_EN_NA379764_DWS715_NA.pdf  \n"
          ]
        }
      ],
      "source": [
        "!unzip '/content/Data/PDF Documents.zip'"
      ]
    },
    {
      "cell_type": "code",
      "execution_count": 3,
      "metadata": {
        "colab": {
          "base_uri": "https://localhost:8080/"
        },
        "id": "dK9Mx5-3SFZJ",
        "outputId": "fa9b8073-ed3a-4779-fe82-01edd577cd8c"
      },
      "outputs": [
        {
          "output_type": "stream",
          "name": "stdout",
          "text": [
            "Collecting pymupdf\n",
            "  Downloading PyMuPDF-1.23.6-cp310-none-manylinux2014_x86_64.whl (4.3 MB)\n",
            "\u001b[2K     \u001b[90m━━━━━━━━━━━━━━━━━━━━━━━━━━━━━━━━━━━━━━━━\u001b[0m \u001b[32m4.3/4.3 MB\u001b[0m \u001b[31m12.4 MB/s\u001b[0m eta \u001b[36m0:00:00\u001b[0m\n",
            "\u001b[?25hCollecting PyPDF2\n",
            "  Downloading pypdf2-3.0.1-py3-none-any.whl (232 kB)\n",
            "\u001b[2K     \u001b[90m━━━━━━━━━━━━━━━━━━━━━━━━━━━━━━━━━━━━━━━━\u001b[0m \u001b[32m232.6/232.6 kB\u001b[0m \u001b[31m13.4 MB/s\u001b[0m eta \u001b[36m0:00:00\u001b[0m\n",
            "\u001b[?25hCollecting PyMuPDFb==1.23.6 (from pymupdf)\n",
            "  Downloading PyMuPDFb-1.23.6-py3-none-manylinux2014_x86_64.manylinux_2_17_x86_64.whl (30.6 MB)\n",
            "\u001b[2K     \u001b[90m━━━━━━━━━━━━━━━━━━━━━━━━━━━━━━━━━━━━━━━━\u001b[0m \u001b[32m30.6/30.6 MB\u001b[0m \u001b[31m11.2 MB/s\u001b[0m eta \u001b[36m0:00:00\u001b[0m\n",
            "\u001b[?25hInstalling collected packages: PyPDF2, PyMuPDFb, pymupdf\n",
            "Successfully installed PyMuPDFb-1.23.6 PyPDF2-3.0.1 pymupdf-1.23.6\n"
          ]
        }
      ],
      "source": [
        "!pip install pymupdf PyPDF2\n"
      ]
    },
    {
      "cell_type": "code",
      "execution_count": 4,
      "metadata": {
        "colab": {
          "base_uri": "https://localhost:8080/"
        },
        "id": "eXmy9k_2wPLn",
        "outputId": "d8f32253-8451-4c9c-cddb-2c0be79700ae"
      },
      "outputs": [
        {
          "output_type": "stream",
          "name": "stdout",
          "text": [
            "Collecting sentence-transformers\n",
            "  Downloading sentence-transformers-2.2.2.tar.gz (85 kB)\n",
            "\u001b[2K     \u001b[90m━━━━━━━━━━━━━━━━━━━━━━━━━━━━━━━━━━━━━━━━\u001b[0m \u001b[32m86.0/86.0 kB\u001b[0m \u001b[31m259.8 kB/s\u001b[0m eta \u001b[36m0:00:00\u001b[0m\n",
            "\u001b[?25h  Preparing metadata (setup.py) ... \u001b[?25l\u001b[?25hdone\n",
            "Requirement already satisfied: transformers<5.0.0,>=4.6.0 in /usr/local/lib/python3.10/dist-packages (from sentence-transformers) (4.35.2)\n",
            "Requirement already satisfied: tqdm in /usr/local/lib/python3.10/dist-packages (from sentence-transformers) (4.66.1)\n",
            "Requirement already satisfied: torch>=1.6.0 in /usr/local/lib/python3.10/dist-packages (from sentence-transformers) (2.1.0+cu118)\n",
            "Requirement already satisfied: torchvision in /usr/local/lib/python3.10/dist-packages (from sentence-transformers) (0.16.0+cu118)\n",
            "Requirement already satisfied: numpy in /usr/local/lib/python3.10/dist-packages (from sentence-transformers) (1.23.5)\n",
            "Requirement already satisfied: scikit-learn in /usr/local/lib/python3.10/dist-packages (from sentence-transformers) (1.2.2)\n",
            "Requirement already satisfied: scipy in /usr/local/lib/python3.10/dist-packages (from sentence-transformers) (1.11.3)\n",
            "Requirement already satisfied: nltk in /usr/local/lib/python3.10/dist-packages (from sentence-transformers) (3.8.1)\n",
            "Collecting sentencepiece (from sentence-transformers)\n",
            "  Downloading sentencepiece-0.1.99-cp310-cp310-manylinux_2_17_x86_64.manylinux2014_x86_64.whl (1.3 MB)\n",
            "\u001b[2K     \u001b[90m━━━━━━━━━━━━━━━━━━━━━━━━━━━━━━━━━━━━━━━━\u001b[0m \u001b[32m1.3/1.3 MB\u001b[0m \u001b[31m25.7 MB/s\u001b[0m eta \u001b[36m0:00:00\u001b[0m\n",
            "\u001b[?25hRequirement already satisfied: huggingface-hub>=0.4.0 in /usr/local/lib/python3.10/dist-packages (from sentence-transformers) (0.19.4)\n",
            "Requirement already satisfied: filelock in /usr/local/lib/python3.10/dist-packages (from huggingface-hub>=0.4.0->sentence-transformers) (3.13.1)\n",
            "Requirement already satisfied: fsspec>=2023.5.0 in /usr/local/lib/python3.10/dist-packages (from huggingface-hub>=0.4.0->sentence-transformers) (2023.6.0)\n",
            "Requirement already satisfied: requests in /usr/local/lib/python3.10/dist-packages (from huggingface-hub>=0.4.0->sentence-transformers) (2.31.0)\n",
            "Requirement already satisfied: pyyaml>=5.1 in /usr/local/lib/python3.10/dist-packages (from huggingface-hub>=0.4.0->sentence-transformers) (6.0.1)\n",
            "Requirement already satisfied: typing-extensions>=3.7.4.3 in /usr/local/lib/python3.10/dist-packages (from huggingface-hub>=0.4.0->sentence-transformers) (4.5.0)\n",
            "Requirement already satisfied: packaging>=20.9 in /usr/local/lib/python3.10/dist-packages (from huggingface-hub>=0.4.0->sentence-transformers) (23.2)\n",
            "Requirement already satisfied: sympy in /usr/local/lib/python3.10/dist-packages (from torch>=1.6.0->sentence-transformers) (1.12)\n",
            "Requirement already satisfied: networkx in /usr/local/lib/python3.10/dist-packages (from torch>=1.6.0->sentence-transformers) (3.2.1)\n",
            "Requirement already satisfied: jinja2 in /usr/local/lib/python3.10/dist-packages (from torch>=1.6.0->sentence-transformers) (3.1.2)\n",
            "Requirement already satisfied: triton==2.1.0 in /usr/local/lib/python3.10/dist-packages (from torch>=1.6.0->sentence-transformers) (2.1.0)\n",
            "Requirement already satisfied: regex!=2019.12.17 in /usr/local/lib/python3.10/dist-packages (from transformers<5.0.0,>=4.6.0->sentence-transformers) (2023.6.3)\n",
            "Requirement already satisfied: tokenizers<0.19,>=0.14 in /usr/local/lib/python3.10/dist-packages (from transformers<5.0.0,>=4.6.0->sentence-transformers) (0.15.0)\n",
            "Requirement already satisfied: safetensors>=0.3.1 in /usr/local/lib/python3.10/dist-packages (from transformers<5.0.0,>=4.6.0->sentence-transformers) (0.4.0)\n",
            "Requirement already satisfied: click in /usr/local/lib/python3.10/dist-packages (from nltk->sentence-transformers) (8.1.7)\n",
            "Requirement already satisfied: joblib in /usr/local/lib/python3.10/dist-packages (from nltk->sentence-transformers) (1.3.2)\n",
            "Requirement already satisfied: threadpoolctl>=2.0.0 in /usr/local/lib/python3.10/dist-packages (from scikit-learn->sentence-transformers) (3.2.0)\n",
            "Requirement already satisfied: pillow!=8.3.*,>=5.3.0 in /usr/local/lib/python3.10/dist-packages (from torchvision->sentence-transformers) (9.4.0)\n",
            "Requirement already satisfied: MarkupSafe>=2.0 in /usr/local/lib/python3.10/dist-packages (from jinja2->torch>=1.6.0->sentence-transformers) (2.1.3)\n",
            "Requirement already satisfied: charset-normalizer<4,>=2 in /usr/local/lib/python3.10/dist-packages (from requests->huggingface-hub>=0.4.0->sentence-transformers) (3.3.2)\n",
            "Requirement already satisfied: idna<4,>=2.5 in /usr/local/lib/python3.10/dist-packages (from requests->huggingface-hub>=0.4.0->sentence-transformers) (3.4)\n",
            "Requirement already satisfied: urllib3<3,>=1.21.1 in /usr/local/lib/python3.10/dist-packages (from requests->huggingface-hub>=0.4.0->sentence-transformers) (2.0.7)\n",
            "Requirement already satisfied: certifi>=2017.4.17 in /usr/local/lib/python3.10/dist-packages (from requests->huggingface-hub>=0.4.0->sentence-transformers) (2023.7.22)\n",
            "Requirement already satisfied: mpmath>=0.19 in /usr/local/lib/python3.10/dist-packages (from sympy->torch>=1.6.0->sentence-transformers) (1.3.0)\n",
            "Building wheels for collected packages: sentence-transformers\n",
            "  Building wheel for sentence-transformers (setup.py) ... \u001b[?25l\u001b[?25hdone\n",
            "  Created wheel for sentence-transformers: filename=sentence_transformers-2.2.2-py3-none-any.whl size=125923 sha256=51d016728ddcd0befe4b0b7f4f2d80ebcceb5fb6b5628baf777d83e55f565f11\n",
            "  Stored in directory: /root/.cache/pip/wheels/62/f2/10/1e606fd5f02395388f74e7462910fe851042f97238cbbd902f\n",
            "Successfully built sentence-transformers\n",
            "Installing collected packages: sentencepiece, sentence-transformers\n",
            "Successfully installed sentence-transformers-2.2.2 sentencepiece-0.1.99\n"
          ]
        }
      ],
      "source": [
        "!pip install -U sentence-transformers\n"
      ]
    },
    {
      "cell_type": "code",
      "execution_count": 5,
      "metadata": {
        "colab": {
          "base_uri": "https://localhost:8080/"
        },
        "id": "qcHHuuQ2w6pd",
        "outputId": "2e8b631c-0b52-4586-ec39-775866c77689"
      },
      "outputs": [
        {
          "output_type": "stream",
          "name": "stdout",
          "text": [
            "Collecting faiss-cpu\n",
            "  Downloading faiss_cpu-1.7.4-cp310-cp310-manylinux_2_17_x86_64.manylinux2014_x86_64.whl (17.6 MB)\n",
            "\u001b[2K     \u001b[90m━━━━━━━━━━━━━━━━━━━━━━━━━━━━━━━━━━━━━━━━\u001b[0m \u001b[32m17.6/17.6 MB\u001b[0m \u001b[31m58.4 MB/s\u001b[0m eta \u001b[36m0:00:00\u001b[0m\n",
            "\u001b[?25hInstalling collected packages: faiss-cpu\n",
            "Successfully installed faiss-cpu-1.7.4\n"
          ]
        }
      ],
      "source": [
        "!pip install faiss-cpu\n"
      ]
    },
    {
      "cell_type": "code",
      "source": [
        "!pip install evaluate"
      ],
      "metadata": {
        "colab": {
          "base_uri": "https://localhost:8080/"
        },
        "id": "PhNyIDEu9_HB",
        "outputId": "8d482b2b-1ed0-4f79-e9c4-c13869b1e363"
      },
      "execution_count": 6,
      "outputs": [
        {
          "output_type": "stream",
          "name": "stdout",
          "text": [
            "Collecting evaluate\n",
            "  Downloading evaluate-0.4.1-py3-none-any.whl (84 kB)\n",
            "\u001b[2K     \u001b[90m━━━━━━━━━━━━━━━━━━━━━━━━━━━━━━━━━━━━━━━━\u001b[0m \u001b[32m84.1/84.1 kB\u001b[0m \u001b[31m2.1 MB/s\u001b[0m eta \u001b[36m0:00:00\u001b[0m\n",
            "\u001b[?25hCollecting datasets>=2.0.0 (from evaluate)\n",
            "  Downloading datasets-2.15.0-py3-none-any.whl (521 kB)\n",
            "\u001b[2K     \u001b[90m━━━━━━━━━━━━━━━━━━━━━━━━━━━━━━━━━━━━━━━━\u001b[0m \u001b[32m521.2/521.2 kB\u001b[0m \u001b[31m11.2 MB/s\u001b[0m eta \u001b[36m0:00:00\u001b[0m\n",
            "\u001b[?25hRequirement already satisfied: numpy>=1.17 in /usr/local/lib/python3.10/dist-packages (from evaluate) (1.23.5)\n",
            "Collecting dill (from evaluate)\n",
            "  Downloading dill-0.3.7-py3-none-any.whl (115 kB)\n",
            "\u001b[2K     \u001b[90m━━━━━━━━━━━━━━━━━━━━━━━━━━━━━━━━━━━━━━━━\u001b[0m \u001b[32m115.3/115.3 kB\u001b[0m \u001b[31m16.1 MB/s\u001b[0m eta \u001b[36m0:00:00\u001b[0m\n",
            "\u001b[?25hRequirement already satisfied: pandas in /usr/local/lib/python3.10/dist-packages (from evaluate) (1.5.3)\n",
            "Requirement already satisfied: requests>=2.19.0 in /usr/local/lib/python3.10/dist-packages (from evaluate) (2.31.0)\n",
            "Requirement already satisfied: tqdm>=4.62.1 in /usr/local/lib/python3.10/dist-packages (from evaluate) (4.66.1)\n",
            "Requirement already satisfied: xxhash in /usr/local/lib/python3.10/dist-packages (from evaluate) (3.4.1)\n",
            "Collecting multiprocess (from evaluate)\n",
            "  Downloading multiprocess-0.70.15-py310-none-any.whl (134 kB)\n",
            "\u001b[2K     \u001b[90m━━━━━━━━━━━━━━━━━━━━━━━━━━━━━━━━━━━━━━━━\u001b[0m \u001b[32m134.8/134.8 kB\u001b[0m \u001b[31m17.7 MB/s\u001b[0m eta \u001b[36m0:00:00\u001b[0m\n",
            "\u001b[?25hRequirement already satisfied: fsspec[http]>=2021.05.0 in /usr/local/lib/python3.10/dist-packages (from evaluate) (2023.6.0)\n",
            "Requirement already satisfied: huggingface-hub>=0.7.0 in /usr/local/lib/python3.10/dist-packages (from evaluate) (0.19.4)\n",
            "Requirement already satisfied: packaging in /usr/local/lib/python3.10/dist-packages (from evaluate) (23.2)\n",
            "Collecting responses<0.19 (from evaluate)\n",
            "  Downloading responses-0.18.0-py3-none-any.whl (38 kB)\n",
            "Requirement already satisfied: pyarrow>=8.0.0 in /usr/local/lib/python3.10/dist-packages (from datasets>=2.0.0->evaluate) (9.0.0)\n",
            "Collecting pyarrow-hotfix (from datasets>=2.0.0->evaluate)\n",
            "  Downloading pyarrow_hotfix-0.6-py3-none-any.whl (7.9 kB)\n",
            "Requirement already satisfied: aiohttp in /usr/local/lib/python3.10/dist-packages (from datasets>=2.0.0->evaluate) (3.8.6)\n",
            "Requirement already satisfied: pyyaml>=5.1 in /usr/local/lib/python3.10/dist-packages (from datasets>=2.0.0->evaluate) (6.0.1)\n",
            "Requirement already satisfied: filelock in /usr/local/lib/python3.10/dist-packages (from huggingface-hub>=0.7.0->evaluate) (3.13.1)\n",
            "Requirement already satisfied: typing-extensions>=3.7.4.3 in /usr/local/lib/python3.10/dist-packages (from huggingface-hub>=0.7.0->evaluate) (4.5.0)\n",
            "Requirement already satisfied: charset-normalizer<4,>=2 in /usr/local/lib/python3.10/dist-packages (from requests>=2.19.0->evaluate) (3.3.2)\n",
            "Requirement already satisfied: idna<4,>=2.5 in /usr/local/lib/python3.10/dist-packages (from requests>=2.19.0->evaluate) (3.4)\n",
            "Requirement already satisfied: urllib3<3,>=1.21.1 in /usr/local/lib/python3.10/dist-packages (from requests>=2.19.0->evaluate) (2.0.7)\n",
            "Requirement already satisfied: certifi>=2017.4.17 in /usr/local/lib/python3.10/dist-packages (from requests>=2.19.0->evaluate) (2023.7.22)\n",
            "Requirement already satisfied: python-dateutil>=2.8.1 in /usr/local/lib/python3.10/dist-packages (from pandas->evaluate) (2.8.2)\n",
            "Requirement already satisfied: pytz>=2020.1 in /usr/local/lib/python3.10/dist-packages (from pandas->evaluate) (2023.3.post1)\n",
            "Requirement already satisfied: attrs>=17.3.0 in /usr/local/lib/python3.10/dist-packages (from aiohttp->datasets>=2.0.0->evaluate) (23.1.0)\n",
            "Requirement already satisfied: multidict<7.0,>=4.5 in /usr/local/lib/python3.10/dist-packages (from aiohttp->datasets>=2.0.0->evaluate) (6.0.4)\n",
            "Requirement already satisfied: async-timeout<5.0,>=4.0.0a3 in /usr/local/lib/python3.10/dist-packages (from aiohttp->datasets>=2.0.0->evaluate) (4.0.3)\n",
            "Requirement already satisfied: yarl<2.0,>=1.0 in /usr/local/lib/python3.10/dist-packages (from aiohttp->datasets>=2.0.0->evaluate) (1.9.2)\n",
            "Requirement already satisfied: frozenlist>=1.1.1 in /usr/local/lib/python3.10/dist-packages (from aiohttp->datasets>=2.0.0->evaluate) (1.4.0)\n",
            "Requirement already satisfied: aiosignal>=1.1.2 in /usr/local/lib/python3.10/dist-packages (from aiohttp->datasets>=2.0.0->evaluate) (1.3.1)\n",
            "Requirement already satisfied: six>=1.5 in /usr/local/lib/python3.10/dist-packages (from python-dateutil>=2.8.1->pandas->evaluate) (1.16.0)\n",
            "Installing collected packages: pyarrow-hotfix, dill, responses, multiprocess, datasets, evaluate\n",
            "Successfully installed datasets-2.15.0 dill-0.3.7 evaluate-0.4.1 multiprocess-0.70.15 pyarrow-hotfix-0.6 responses-0.18.0\n"
          ]
        }
      ]
    },
    {
      "cell_type": "code",
      "source": [
        "!pip install nltk rouge-score\n"
      ],
      "metadata": {
        "colab": {
          "base_uri": "https://localhost:8080/"
        },
        "id": "gdXQS0glHC6j",
        "outputId": "81133506-a6d9-4e68-df4d-d8fa1b89519e"
      },
      "execution_count": 7,
      "outputs": [
        {
          "output_type": "stream",
          "name": "stdout",
          "text": [
            "Requirement already satisfied: nltk in /usr/local/lib/python3.10/dist-packages (3.8.1)\n",
            "Collecting rouge-score\n",
            "  Downloading rouge_score-0.1.2.tar.gz (17 kB)\n",
            "  Preparing metadata (setup.py) ... \u001b[?25l\u001b[?25hdone\n",
            "Requirement already satisfied: click in /usr/local/lib/python3.10/dist-packages (from nltk) (8.1.7)\n",
            "Requirement already satisfied: joblib in /usr/local/lib/python3.10/dist-packages (from nltk) (1.3.2)\n",
            "Requirement already satisfied: regex>=2021.8.3 in /usr/local/lib/python3.10/dist-packages (from nltk) (2023.6.3)\n",
            "Requirement already satisfied: tqdm in /usr/local/lib/python3.10/dist-packages (from nltk) (4.66.1)\n",
            "Requirement already satisfied: absl-py in /usr/local/lib/python3.10/dist-packages (from rouge-score) (1.4.0)\n",
            "Requirement already satisfied: numpy in /usr/local/lib/python3.10/dist-packages (from rouge-score) (1.23.5)\n",
            "Requirement already satisfied: six>=1.14.0 in /usr/local/lib/python3.10/dist-packages (from rouge-score) (1.16.0)\n",
            "Building wheels for collected packages: rouge-score\n",
            "  Building wheel for rouge-score (setup.py) ... \u001b[?25l\u001b[?25hdone\n",
            "  Created wheel for rouge-score: filename=rouge_score-0.1.2-py3-none-any.whl size=24933 sha256=0b5cdd0af90f2c5c26be064f09e6b5d6325b804cf208371b762e741e4ec34650\n",
            "  Stored in directory: /root/.cache/pip/wheels/5f/dd/89/461065a73be61a532ff8599a28e9beef17985c9e9c31e541b4\n",
            "Successfully built rouge-score\n",
            "Installing collected packages: rouge-score\n",
            "Successfully installed rouge-score-0.1.2\n"
          ]
        }
      ]
    },
    {
      "cell_type": "code",
      "source": [
        "# # !pip install llama-cpp-python\n",
        "# !CMAKE_ARGS=\"-DLLAMA_CUBLAS=on\" FORCE_CMAKE=1 pip install llama-cpp-python==0.1.78 numpy==1.23.4 --force-reinstall --upgrade --no-cache-dir --verbose\n",
        "# !pip install llama-cpp-python==0.1.78\n",
        "# !pip install numpy==1.23.4\n"
      ],
      "metadata": {
        "id": "LAtLrq8eldcq"
      },
      "execution_count": 8,
      "outputs": []
    },
    {
      "cell_type": "code",
      "source": [
        "# !pip install huggingface_hub"
      ],
      "metadata": {
        "id": "NWVoxHuBsBYK"
      },
      "execution_count": 9,
      "outputs": []
    },
    {
      "cell_type": "code",
      "source": [
        "# from huggingface_hub import hf_hub_download\n",
        "# model_path = hf_hub_download(repo_id='TheBloke/Llama-2-13B-chat-GGML', filename='llama-2-13b-chat.ggmlv3.q5_1.bin')\n",
        "\n"
      ],
      "metadata": {
        "id": "tJzu23qSsSbT"
      },
      "execution_count": 10,
      "outputs": []
    },
    {
      "cell_type": "code",
      "source": [
        "import os\n",
        "from pathlib import Path\n",
        "import fitz\n",
        "import torch\n",
        "import faiss\n",
        "# from llama_cpp import Llama\n",
        "from sentence_transformers import SentenceTransformer\n",
        "\n",
        "from transformers import AutoModelForCausalLM, AutoTokenizer\n",
        "\n",
        "\n",
        "\n",
        "def parse_pdf_files(folder_path, chunk_size, chunk_overlap):\n",
        "  text_chunks = []\n",
        "  for file_name in os.listdir(folder_path):\n",
        "        if file_name.endswith('.pdf'):\n",
        "          file_path = os.path.join(folder_path, file_name)\n",
        "          pdf_document = fitz.open(file_path)\n",
        "          num_pages = pdf_document.page_count\n",
        "          for page_num in range(num_pages):\n",
        "            page = pdf_document.load_page(page_num)\n",
        "            text = page.get_text()\n",
        "\n",
        "            # Split text into chunks with overlap\n",
        "            for i in range(0, len(text), chunk_size - chunk_overlap):\n",
        "                text_chunks.append(text[i:i + chunk_size])\n",
        "          pdf_document.close()\n",
        "  return text_chunks\n",
        "\n",
        "\n",
        "\n",
        "def embedder(text_chunks):\n",
        "    embed_model = SentenceTransformer('paraphrase-MiniLM-L6-v2')\n",
        "    embeddings = embed_model.encode(texts)\n",
        "    return embeddings, embed_model\n",
        "\n",
        "\n",
        "def save_embeddings(embeddings):\n",
        "    index = faiss.IndexFlatL2(embeddings.shape[1])\n",
        "    index.add(embeddings)\n",
        "    faiss.write_index(index, 'my_retriever.index')\n",
        "    return index\n",
        "\n",
        "\n",
        "def retrieve_context(query, embed_model, faiss_index, embeddings, texts):\n",
        "    # llm_model_name = \"databricks/dolly-v2-3b\"\n",
        "    llm_model_name ='bert-base-uncased'\n",
        "    llm_tokenizer = AutoTokenizer.from_pretrained(llm_model_name)\n",
        "    llm_model = AutoModelForCausalLM.from_pretrained(llm_model_name)\n",
        "    query_embedding = embed_model.encode([query])[0]\n",
        "    D, I = faiss_index.search(query_embedding.reshape(1, -1), k=5)  # top 5 context similarity search\n",
        "    similar_text = []\n",
        "    for i in range(len(I[0])):\n",
        "        similar_text_index = I[0][i]\n",
        "        similar_text.append(texts[similar_text_index])\n",
        "\n",
        "    # collect all similar texts for context\n",
        "    context = \" \".join(similar_text)\n",
        "\n",
        "    # encode context using tokenizer\n",
        "    inputs = llm_tokenizer.encode(\"Question: \" + query + \" Context: \" + context, return_tensors=\"pt\", max_length=512)\n",
        "\n",
        "    # generate using LLM model\n",
        "    with torch.no_grad():\n",
        "      outputs = llm_model.generate(inputs, max_length=20)\n",
        "\n",
        "    # deecode the output using tokenizer\n",
        "    retrieved_answer = llm_tokenizer.decode(outputs[0], skip_special_tokens=True)\n",
        "    return retrieved_answer\n",
        "\n",
        "\n",
        "\n",
        "\n",
        "folder_path = '/content/PDF Documents/Set1'\n",
        "texts = parse_pdf_files(folder_path, chunk_size=500, chunk_overlap=50)\n",
        "\n",
        "\n",
        "\n"
      ],
      "metadata": {
        "id": "-ycPTXH5sSVH"
      },
      "execution_count": 24,
      "outputs": []
    },
    {
      "cell_type": "code",
      "source": [
        "texts[-5:]"
      ],
      "metadata": {
        "colab": {
          "base_uri": "https://localhost:8080/"
        },
        "id": "g-1Wo6HJ4C6J",
        "outputId": "b271b229-51a0-4b21-9b4d-edfa586e4c54"
      },
      "execution_count": 25,
      "outputs": [
        {
          "output_type": "execute_result",
          "data": {
            "text/plain": [
              "[' ground source see Figure \"G\".\\nAttach the end of the positive wire to a dashboard illumination\\nwire using a wire connector.  Slip the wire connector over the\\nexisting dashboard illumination wire and insert the un-stripped\\ngauge panel wire into the wire connector.  Close the wire connector\\nover the wires with pliers see Figure \"E\".  Attach the black wire to\\na ground source by crimping a ring connector on to the wire and\\nsecuring it to a suitable ground source on the vehicle.  Note:  Should\\nadditi',\n",
              " \"round source on the vehicle.  Note:  Should\\nadditional wire be necessary to reach the dashboard illumination\\nwire and ground source, use 16 gage multi-strand wire.\\nSTEP 9 - CHECK THE SYSTEM\\nWith the Level Command kit and your air helper springs installed, you are ready to test the system.  Reattach the negative battery\\ncable.  Turn on the vehicle's ignition.  Push the paddle switch up to inflate the air springs.  The gauge will display how much air\\npressure is in the air springs.  Inflate the ai\",\n",
              " 'ir\\npressure is in the air springs.  Inflate the air helper springs to 70 psi and check the fittings for air leaks with an applied solution of\\nsoap and water.  If a leak is detected at a tubing connection, check to make sure that the tube is cut as square as possible and that\\nit is pushed completely into the fitting.  The tubing can easily be removed from the fitting.  First, release the pressure from the air\\nspring.  Push the collar towards the body of the fitting and pull out the tube.\\nSYSTEM O',\n",
              " 'ody of the fitting and pull out the tube.\\nSYSTEM OPERATION\\nThe Level Command kit allows the air springs to be inflated from the inside of the vehicle.  Push the paddle switch up to inflate\\nthe air springs and push the paddle switch down to deflate the air springs.\\nFigure \"G\"\\nWIRE FROM\\nPANEL LIGHT\\nCONNECTING WIRE\\nPLASTIC\\nCONNECTOR\\nFUSE HOLDER\\nFIRESTONE INDUSTRIAL PRODUCTS\\n  TELEPHONE:  317-818-8600\\n12650 HAMILTON CROSSING BOULEVARD\\n       1-800-247-4337\\nCARMEL, IN 46032\\nwww.ride-rite.com\\nFAX:  31',\n",
              " '7-4337\\nCARMEL, IN 46032\\nwww.ride-rite.com\\nFAX:  317-818-8645\\n��\\n�\\n�\\n']"
            ]
          },
          "metadata": {},
          "execution_count": 25
        }
      ]
    },
    {
      "cell_type": "code",
      "source": [
        "embeddings, embed_model = embedder(texts)\n",
        "faiss_index = save_embeddings(embeddings)"
      ],
      "metadata": {
        "id": "brsvzgdYyxkL"
      },
      "execution_count": 26,
      "outputs": []
    },
    {
      "cell_type": "code",
      "source": [
        "\n",
        "query = \"What to do after selecting a mounting location for the control panel?\"\n",
        "answers = retrieve_context(query, embed_model, faiss_index, embeddings, texts)\n"
      ],
      "metadata": {
        "colab": {
          "base_uri": "https://localhost:8080/"
        },
        "id": "-tFN8jHaytdN",
        "outputId": "be7b7cbf-a7ed-437f-ce1d-c379ebe1bf00"
      },
      "execution_count": 27,
      "outputs": [
        {
          "output_type": "stream",
          "name": "stderr",
          "text": [
            "If you want to use `BertLMHeadModel` as a standalone, add `is_decoder=True.`\n",
            "Truncation was not explicitly activated but `max_length` is provided a specific value, please use `truncation=True` to explicitly truncate examples to max length. Defaulting to 'longest_first' truncation strategy. If you encode pairs of sequences (GLUE-style) with the tokenizer you can select this strategy more precisely by providing a specific strategy to `truncation`.\n",
            "/usr/local/lib/python3.10/dist-packages/transformers/generation/utils.py:1281: UserWarning: Input length of input_ids is 512, but `max_length` is set to 20. This can lead to unexpected behavior. You should consider increasing `max_new_tokens`.\n",
            "  warnings.warn(\n"
          ]
        }
      ]
    },
    {
      "cell_type": "code",
      "source": [
        "answers"
      ],
      "metadata": {
        "colab": {
          "base_uri": "https://localhost:8080/",
          "height": 140
        },
        "id": "l0CY7jJY9n6a",
        "outputId": "40d1b0d8-7e0f-4ba9-f5b4-9ec3bb6d5885"
      },
      "execution_count": 28,
      "outputs": [
        {
          "output_type": "execute_result",
          "data": {
            "text/plain": [
              "'question : what to do after selecting a mounting location for the control panel? context : ll mount assembly avoid accidentally switching the tool on during assembly. fitting the guard ( fig. b ) n remove the screw ( 15 ) from the guard ( 8 ). n place the guard onto the tool as shown. n firmly press the guard until it snaps into place. n secure the guard with the screw ( 15 ). never use the tool unless the guard is properly fitted. mounting the wall mount to the wall ( fig. c ) the wall mount ( 14 ) is used to provide a convenient storage and charging point for the tool. n find a suitable indoor ppliance. • allow at least 4 ” between the side opposite the control panel of your oven and adjacent wall or other appliance. you can mount the other appliances flush to one another. †. mountingparts ( part # sdc - mountingkit ) a. 6spacers ½ \" ¼ \" / 6 \" / 6 \" b. screws \" ½ \" ¼ \" c. washers. mountingtemplate ( inbox ) youwillalsoneed : • tape • ruler ( oryoumaycutouttherul lock nuts washers machine srews control panel bracket washers step 1 - select a mounting location for the control panel select a mounting surface under the dashboard or other protected location. using the control panel as a template, mark each of the mounting points with a center punch. drill a 3 / 16 \" diameter hole on each center mark see figure \" b \". do not attach the control panel at this time. step 2 - prepare the compressor install the rubber isolator feet to the compressor from the bottom of rk patterns in the kitchen when choosing location. • donot mount over any heating or cooking appliance such as your range or oven. • donot mount over or near a sink. • donotmount under, in front of or behind any under - cabinet light fixtures. note : if mounting multiple † spacemaker™ appliances and you are installing your appliance next to the spacemaker™ oven ( fig. a. ) : • allow at least 1 ” between the control panel side of the oven and the appliance. • allow at least 4 ” between the side op wn in figure 1 or 1a. to select reverse, depress the forward / reverse control button the opposite direction. the center position of the control button locks the tool in the off position. when changing the position of the control button, be sure.'"
            ],
            "application/vnd.google.colaboratory.intrinsic+json": {
              "type": "string"
            }
          },
          "metadata": {},
          "execution_count": 28
        }
      ]
    },
    {
      "cell_type": "code",
      "source": [
        "# import evaluate\n",
        "from nltk.translate.bleu_score import sentence_bleu\n",
        "from rouge_score import rouge_scorer\n",
        "\n",
        "import pandas as pd\n",
        "\n",
        "\n",
        "def evaluate(query, answers):\n",
        "    ground_truth = pd.read_excel(\"/content/Data/Labelled Data/Labelled_Data_Set1.xlsx\")\n",
        "    ground_truth = ground_truth[ground_truth['Queries']==query]['Answers'].iloc[0]\n",
        "\n",
        "    predictions = answers.split('context :')[1]\n",
        "\n",
        "    # bleu = evaluate.load(\"bleu\")\n",
        "    # rouge = evaluate.load('rouge')\n",
        "    rouge = rouge_scorer.RougeScorer(['rougeL'], use_stemmer=True)\n",
        "\n",
        "\n",
        "    # bleu_score = bleu.compute(predictions=predictions, references=ground_truth)\n",
        "    bleu_score = sentence_bleu(ground_truth, predictions)\n",
        "    rouge_score = rouge.score(ground_truth, predictions)['rougeL'].fmeasure\n",
        "\n",
        "    return bleu_score, rouge_score\n",
        "\n",
        "\n",
        "bleu_score, rouge_score = evaluate(query,answers)\n",
        "\n",
        "print('BLEU Score :', bleu_score)\n",
        "print('ROUGE Score :', rouge_score)"
      ],
      "metadata": {
        "colab": {
          "base_uri": "https://localhost:8080/"
        },
        "id": "KkopiGID9n0f",
        "outputId": "0bdb6a0d-8680-405e-bed7-9b6dbe3b13c2"
      },
      "execution_count": 29,
      "outputs": [
        {
          "output_type": "stream",
          "name": "stdout",
          "text": [
            "BLEU Score : 6.1044198792252615e-232\n",
            "ROUGE Score : 0.16666666666666669\n"
          ]
        },
        {
          "output_type": "stream",
          "name": "stderr",
          "text": [
            "/usr/local/lib/python3.10/dist-packages/nltk/translate/bleu_score.py:552: UserWarning: \n",
            "The hypothesis contains 0 counts of 2-gram overlaps.\n",
            "Therefore the BLEU score evaluates to 0, independently of\n",
            "how many N-gram overlaps of lower order it contains.\n",
            "Consider using lower n-gram order or use SmoothingFunction()\n",
            "  warnings.warn(_msg)\n",
            "/usr/local/lib/python3.10/dist-packages/nltk/translate/bleu_score.py:552: UserWarning: \n",
            "The hypothesis contains 0 counts of 3-gram overlaps.\n",
            "Therefore the BLEU score evaluates to 0, independently of\n",
            "how many N-gram overlaps of lower order it contains.\n",
            "Consider using lower n-gram order or use SmoothingFunction()\n",
            "  warnings.warn(_msg)\n",
            "/usr/local/lib/python3.10/dist-packages/nltk/translate/bleu_score.py:552: UserWarning: \n",
            "The hypothesis contains 0 counts of 4-gram overlaps.\n",
            "Therefore the BLEU score evaluates to 0, independently of\n",
            "how many N-gram overlaps of lower order it contains.\n",
            "Consider using lower n-gram order or use SmoothingFunction()\n",
            "  warnings.warn(_msg)\n"
          ]
        }
      ]
    },
    {
      "cell_type": "code",
      "source": [],
      "metadata": {
        "id": "_YlX2YzyFDFJ"
      },
      "execution_count": 29,
      "outputs": []
    }
  ],
  "metadata": {
    "colab": {
      "provenance": [],
      "gpuType": "T4"
    },
    "kernelspec": {
      "display_name": "Python 3",
      "name": "python3"
    },
    "language_info": {
      "name": "python"
    },
    "accelerator": "GPU"
  },
  "nbformat": 4,
  "nbformat_minor": 0
}